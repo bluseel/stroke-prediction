{
 "cells": [
  {
   "cell_type": "markdown",
   "id": "4851a46f-a618-4409-93b1-da286df8d6fb",
   "metadata": {},
   "source": [
    "# Libraries and Dataset"
   ]
  },
  {
   "cell_type": "code",
   "execution_count": 1,
   "id": "8b840e96-a0a9-494a-86fe-1b7ee92052f4",
   "metadata": {},
   "outputs": [
    {
     "name": "stdout",
     "output_type": "stream",
     "text": [
      "Requirement already satisfied: numpy in /root/anaconda3/envs/stroke/lib/python3.10/site-packages (2.2.3)\n",
      "Requirement already satisfied: pandas in /root/anaconda3/envs/stroke/lib/python3.10/site-packages (2.2.3)\n",
      "Requirement already satisfied: scikit-learn in /root/anaconda3/envs/stroke/lib/python3.10/site-packages (1.6.1)\n",
      "Requirement already satisfied: matplotlib in /root/anaconda3/envs/stroke/lib/python3.10/site-packages (3.10.0)\n",
      "Requirement already satisfied: python-dateutil>=2.8.2 in /root/anaconda3/envs/stroke/lib/python3.10/site-packages (from pandas) (2.9.0.post0)\n",
      "Requirement already satisfied: pytz>=2020.1 in /root/anaconda3/envs/stroke/lib/python3.10/site-packages (from pandas) (2025.1)\n",
      "Requirement already satisfied: tzdata>=2022.7 in /root/anaconda3/envs/stroke/lib/python3.10/site-packages (from pandas) (2025.1)\n",
      "Requirement already satisfied: scipy>=1.6.0 in /root/anaconda3/envs/stroke/lib/python3.10/site-packages (from scikit-learn) (1.15.2)\n",
      "Requirement already satisfied: joblib>=1.2.0 in /root/anaconda3/envs/stroke/lib/python3.10/site-packages (from scikit-learn) (1.4.2)\n",
      "Requirement already satisfied: threadpoolctl>=3.1.0 in /root/anaconda3/envs/stroke/lib/python3.10/site-packages (from scikit-learn) (3.5.0)\n",
      "Requirement already satisfied: contourpy>=1.0.1 in /root/anaconda3/envs/stroke/lib/python3.10/site-packages (from matplotlib) (1.3.1)\n",
      "Requirement already satisfied: cycler>=0.10 in /root/anaconda3/envs/stroke/lib/python3.10/site-packages (from matplotlib) (0.12.1)\n",
      "Requirement already satisfied: fonttools>=4.22.0 in /root/anaconda3/envs/stroke/lib/python3.10/site-packages (from matplotlib) (4.56.0)\n",
      "Requirement already satisfied: kiwisolver>=1.3.1 in /root/anaconda3/envs/stroke/lib/python3.10/site-packages (from matplotlib) (1.4.8)\n",
      "Requirement already satisfied: packaging>=20.0 in /root/anaconda3/envs/stroke/lib/python3.10/site-packages (from matplotlib) (24.2)\n",
      "Requirement already satisfied: pillow>=8 in /root/anaconda3/envs/stroke/lib/python3.10/site-packages (from matplotlib) (11.1.0)\n",
      "Requirement already satisfied: pyparsing>=2.3.1 in /root/anaconda3/envs/stroke/lib/python3.10/site-packages (from matplotlib) (3.2.1)\n",
      "Requirement already satisfied: six>=1.5 in /root/anaconda3/envs/stroke/lib/python3.10/site-packages (from python-dateutil>=2.8.2->pandas) (1.16.0)\n",
      "\u001b[33mWARNING: Running pip as the 'root' user can result in broken permissions and conflicting behaviour with the system package manager, possibly rendering your system unusable. It is recommended to use a virtual environment instead: https://pip.pypa.io/warnings/venv. Use the --root-user-action option if you know what you are doing and want to suppress this warning.\u001b[0m\u001b[33m\n",
      "\u001b[0m"
     ]
    }
   ],
   "source": [
    "!pip install numpy pandas scikit-learn matplotlib"
   ]
  },
  {
   "cell_type": "code",
   "execution_count": 2,
   "id": "c58a9ef5-14ce-4c10-a348-28f4b4c1d141",
   "metadata": {},
   "outputs": [],
   "source": [
    "import numpy as np\n",
    "import pandas as pd\n",
    "import matplotlib.pyplot as plt\n",
    "from sklearn.model_selection import train_test_split\n",
    "from sklearn.preprocessing import StandardScaler\n",
    "df = pd.read_csv(\"stroke_risk_dataset.csv\")"
   ]
  },
  {
   "cell_type": "markdown",
   "id": "27f993ce-e839-4637-83e2-25631dc63c48",
   "metadata": {},
   "source": [
    "# Main Code"
   ]
  },
  {
   "cell_type": "markdown",
   "id": "df2e5a87-f418-4023-a52e-111216af82cd",
   "metadata": {},
   "source": [
    "## Spliting Data and params"
   ]
  },
  {
   "cell_type": "code",
   "execution_count": 3,
   "id": "4a1b4e33-c41c-456c-a58b-baf373936e25",
   "metadata": {},
   "outputs": [],
   "source": [
    "X = df.drop(columns=[\"Stroke Risk (%)\", \"At Risk (Binary)\"]).values\n",
    "y = df[\"Stroke Risk (%)\"].values.reshape(-1, 1)"
   ]
  },
  {
   "cell_type": "code",
   "execution_count": 5,
   "id": "13ffbad8-19cf-44ae-9c85-f87eade6fc56",
   "metadata": {},
   "outputs": [],
   "source": [
    "sigma = np.std(X, axis=0)\n",
    "\n",
    "sigma = np.where(sigma == 0, 1, sigma)\n",
    "mu = np.mean(X, axis=0)\n",
    "X = (X - mu) / sigma\n",
    "\n",
    "alpha = 0.01\n",
    "\n",
    "# Split into training and test sets\n",
    "m = X.shape[0]\n",
    "m_train = int(0.8 * m)\n",
    "X_train, X_test = X[:m_train, :], X[m_train:, :]\n",
    "y_train, y_test = y[:m_train, :], y[m_train:, :]\n",
    "\n",
    "# Initialize Parameters (Theta)\n",
    "theta = np.zeros((X_train.shape[1], 1))\n",
    "\n",
    "# Hyperparameters\n",
    "alpha = 0.01  # Learning rate\n",
    "iterations = 1000  # Number of iterations"
   ]
  },
  {
   "cell_type": "markdown",
   "id": "5c43aa96-b64f-4b22-a6aa-768009dd9968",
   "metadata": {},
   "source": [
    "## Useful functions"
   ]
  },
  {
   "cell_type": "code",
   "execution_count": 6,
   "id": "9c5811f0-ea8a-4fd1-9c2e-d98df6edf3d8",
   "metadata": {},
   "outputs": [],
   "source": [
    "# Cost Function\n",
    "def compute_cost(X, y, theta):\n",
    "    m = len(y)\n",
    "    predictions = X @ theta\n",
    "    cost = (1 / (2 * m)) * np.sum((predictions - y) ** 2)\n",
    "    return cost\n",
    "\n",
    "# Gradient Descent Algorithm\n",
    "def gradient_descent(X, y, theta, alpha, iterations):\n",
    "    m = len(y)\n",
    "    cost_history = []\n",
    "\n",
    "    for i in range(iterations):\n",
    "        gradient = (1 / m) * (X.T @ (X @ theta - y))\n",
    "        theta -= alpha * gradient\n",
    "        cost = compute_cost(X, y, theta)\n",
    "        cost_history.append(cost)\n",
    "        \n",
    "        if i % 100 == 0:\n",
    "            print(f\"Iteration {i}: Cost {cost:.4f}\")\n",
    "\n",
    "    return theta, cost_history\n"
   ]
  },
  {
   "cell_type": "markdown",
   "id": "cfabce7f-9a17-4e92-aed4-28b17a288a10",
   "metadata": {},
   "source": [
    "## Training"
   ]
  },
  {
   "cell_type": "code",
   "execution_count": 7,
   "id": "8fc43297-a942-48dd-96a6-a860e151d8c9",
   "metadata": {},
   "outputs": [
    {
     "name": "stdout",
     "output_type": "stream",
     "text": [
      "Iteration 0: Cost 1642.9296\n",
      "Iteration 100: Cost 1556.7521\n",
      "Iteration 200: Cost 1545.1385\n",
      "Iteration 300: Cost 1543.5711\n",
      "Iteration 400: Cost 1543.3593\n",
      "Iteration 500: Cost 1543.3306\n",
      "Iteration 600: Cost 1543.3267\n",
      "Iteration 700: Cost 1543.3262\n",
      "Iteration 800: Cost 1543.3261\n",
      "Iteration 900: Cost 1543.3261\n"
     ]
    }
   ],
   "source": [
    "# Train Model using Gradient Descent\n",
    "theta, cost_history = gradient_descent(X_train, y_train, theta, alpha, iterations)\n"
   ]
  },
  {
   "cell_type": "code",
   "execution_count": 8,
   "id": "e4d61d99-7f2e-4617-ad33-ab4f22b21645",
   "metadata": {},
   "outputs": [],
   "source": [
    "# Predict on Test Set\n",
    "y_pred = X_test @ theta"
   ]
  },
  {
   "cell_type": "code",
   "execution_count": 9,
   "id": "7c82755f-6c20-45b6-92d5-c421553028c3",
   "metadata": {},
   "outputs": [],
   "source": [
    "# Convert predictions to percentage\n",
    "y_pred_percentage = y_pred.flatten()\n",
    "y_test_percentage = y_test.flatten()"
   ]
  },
  {
   "cell_type": "markdown",
   "id": "b1a71a5d-7748-46b7-8e10-a06bd17441ce",
   "metadata": {},
   "source": [
    "## Results"
   ]
  },
  {
   "cell_type": "code",
   "execution_count": 10,
   "id": "724bab5f-7535-4178-b074-9805e7fcefe7",
   "metadata": {},
   "outputs": [
    {
     "name": "stdout",
     "output_type": "stream",
     "text": [
      "\n",
      "First 5 Predictions:\n",
      "   Predicted Stroke Risk (%)  Actual Stroke Risk (%)\n",
      "0                 -15.372161                    40.0\n",
      "1                  25.632922                    81.0\n",
      "2                 -13.853964                    41.5\n",
      "3                  13.651239                    69.5\n",
      "4                  -6.700021                    49.0\n"
     ]
    },
    {
     "data": {
      "image/png": "[encoded data removed]",
      "text/plain": [
       "<Figure size 640x480 with 1 Axes>"
      ]
     },
     "metadata": {},
     "output_type": "display_data"
    }
   ],
   "source": [
    "# Show first 5 predictions and actual values\n",
    "df_results = pd.DataFrame({\n",
    "    \"Predicted Stroke Risk (%)\": y_pred_percentage[:5],\n",
    "    \"Actual Stroke Risk (%)\": y_test_percentage[:5]\n",
    "})\n",
    "\n",
    "print(\"\\nFirst 5 Predictions:\")\n",
    "print(df_results)\n",
    "\n",
    "# Plot Cost Function Convergence\n",
    "plt.plot(range(iterations), cost_history, label='Cost Function')\n",
    "plt.xlabel('Iterations')\n",
    "plt.ylabel('Cost')\n",
    "plt.title('Gradient Descent Convergence')\n",
    "plt.legend()\n",
    "plt.show()\n"
   ]
  },
  {
   "cell_type": "code",
   "execution_count": null,
   "id": "971698f3-ad3f-45eb-a07f-55b359aa3237",
   "metadata": {},
   "outputs": [],
   "source": []
  },
  {
   "cell_type": "code",
   "execution_count": null,
   "id": "1b6acf55-4704-4a19-9f89-2b30d8a08a0d",
   "metadata": {},
   "outputs": [],
   "source": []
  },
  {
   "cell_type": "code",
   "execution_count": 27,
   "id": "6312e863",
   "metadata": {},
   "outputs": [
    {
     "name": "stdout",
     "output_type": "stream",
     "text": [
      "Iteration 0: Cost 1612.5336\n",
      "Iteration 100: Cost 216.1778\n",
      "Iteration 200: Cost 28.9908\n",
      "Iteration 300: Cost 3.8914\n",
      "Iteration 400: Cost 0.5251\n",
      "Iteration 500: Cost 0.0735\n",
      "Iteration 600: Cost 0.0129\n",
      "Iteration 700: Cost 0.0048\n",
      "Iteration 800: Cost 0.0037\n",
      "Iteration 900: Cost 0.0036\n"
     ]
    },
    {
     "data": {
      "image/png": "[encoded data removed]",
      "text/plain": [
       "<Figure size 640x480 with 1 Axes>"
      ]
     },
     "metadata": {},
     "output_type": "display_data"
    },
    {
     "name": "stdout",
     "output_type": "stream",
     "text": [
      "Training MSE: 0.0012\n",
      "Test MSE: 0.0002\n",
      "No overfitting detected.\n",
      "Comparing first 5 values from testing data\n",
      "\n",
      "Original Value | Predicted Value\n",
      "--------------------------------\n",
      "68.50          | 68.49\n",
      "45.00          | 45.00\n",
      "35.00          | 35.00\n",
      "40.00          | 40.00\n",
      "67.50          | 67.50\n"
     ]
    }
   ],
   "source": [
    "import numpy as np\n",
    "import pandas as pd\n",
    "import matplotlib.pyplot as plt\n",
    "from sklearn.model_selection import train_test_split\n",
    "from sklearn.metrics import mean_squared_error\n",
    "\n",
    "# Load dataset\n",
    "df = pd.read_csv(\"stroke_risk_dataset.csv\")\n",
    "\n",
    "# Prepare features and target variable\n",
    "X = df.drop(columns=[\"Stroke Risk (%)\", \"At Risk (Binary)\"]).values  # Feature matrix (excluding target variables)\n",
    "y = df[\"Stroke Risk (%)\"].values.reshape(-1, 1)  # Target variable\n",
    "\n",
    "# Feature normalization\n",
    "mu = np.mean(X, axis=0)  # Compute mean for each feature\n",
    "sigma = np.std(X, axis=0)  # Compute standard deviation for each feature\n",
    "sigma = np.where(sigma == 0, 1, sigma)  # Prevent division by zero\n",
    "lambda_ = 0.1  # Regularization parameter\n",
    "\n",
    "X = (X - mu) / sigma  # Normalize features (feature scaling)\n",
    "\n",
    "# Add intercept term (column of ones)\n",
    "X = np.c_[np.ones((X.shape[0], 1)), X]  # Add bias term\n",
    "\n",
    "# Split into training and test sets\n",
    "X_train, X_test, y_train, y_test = train_test_split(X, y, test_size=0.2, random_state=42)\n",
    "\n",
    "# Initialize parameters (Theta)\n",
    "theta = np.zeros((X_train.shape[1], 1))  # Initialize theta to zeros\n",
    "\n",
    "# Hyperparameters\n",
    "alpha = 0.01  # Learning rate\n",
    "iterations = 1000  # Number of iterations for gradient descent\n",
    "\n",
    "# Compute Cost Function (Mean Squared Error)\n",
    "def compute_cost(X, y, theta):\n",
    "    m = len(y)  # Number of training examples\n",
    "    predictions = X @ theta  # Hypothesis function (h = Xθ)\n",
    "    cost = (1 / (2 * m)) * np.sum((predictions - y) ** 2)  # Compute cost\n",
    "    return cost\n",
    "\n",
    "# Gradient Descent Algorithm\n",
    "def gradient_descent(X, y, theta, alpha, iterations, lambda_):\n",
    "    m = len(y)  # Number of training examples\n",
    "    cost_history = []  # To store cost at each iteration\n",
    "\n",
    "    for i in range(iterations):\n",
    "        gradient = (1 / m) * (X.T @ (X @ theta - y)) + (lambda_ / m) * theta  # Compute gradient with L2 regularization\n",
    "        theta -= alpha * gradient  # Update theta\n",
    "        cost = compute_cost(X, y, theta) + (lambda_ / (2 * m)) * np.sum(theta**2)  # Compute regularized cost\n",
    "        cost_history.append(cost)  # Store cost\n",
    "\n",
    "        # Print cost every 100 iterations\n",
    "        if i % 100 == 0:\n",
    "            print(f\"Iteration {i}: Cost {cost:.4f}\")\n",
    "\n",
    "    return theta, cost_history\n",
    "\n",
    "# Run gradient descent\n",
    "theta_final, cost_history = gradient_descent(X_train, y_train, theta, alpha, iterations, lambda_)\n",
    "\n",
    "# Plot cost function history (to check convergence)\n",
    "plt.plot(range(iterations), cost_history, label=\"Training Cost\")\n",
    "plt.xlabel(\"Iterations\")\n",
    "plt.ylabel(\"Cost\")\n",
    "plt.title(\"Gradient Descent Convergence\")\n",
    "plt.legend()\n",
    "plt.show()\n",
    "\n",
    "# Predictions for training and test data\n",
    "y_train_pred = X_train @ theta_final  # Predict training data\n",
    "y_test_pred = X_test @ theta_final  # Predict test data\n",
    "\n",
    "# Compute Mean Squared Error (MSE) for training and test sets\n",
    "train_mse = mean_squared_error(y_train, y_train_pred)\n",
    "test_mse = mean_squared_error(y_test, y_test_pred)\n",
    "\n",
    "print(f\"Training MSE: {train_mse:.4f}\")\n",
    "print(f\"Test MSE: {test_mse:.4f}\")\n",
    "\n",
    "# Check for overfitting (if test error is significantly larger than train error)\n",
    "if test_mse > 1.5 * train_mse:\n",
    "    print(\"Warning: Possible overfitting detected!\")  # Overfitting detected\n",
    "else:\n",
    "    print(\"No overfitting detected.\")  # Model generalizes well\n",
    "\n",
    "# Display original vs. predicted values for first 5 test samples\n",
    "print(\"Comparing first 5 values from testing data\")\n",
    "print(\"Original Value | Predicted Value\")\n",
    "print(\"--------------------------------\")\n",
    "for i in range(5):\n",
    "    print(f\"{y_test[i][0]:.2f}          | {y_test_pred[i][0]:.2f}\")\n"
   ]
  },
  {
   "cell_type": "code",
   "execution_count": null,
   "id": "240c1f71-275d-41ea-b13d-f1ca85c26252",
   "metadata": {},
   "outputs": [],
   "source": []
  }
 ],
 "metadata": {
  "kernelspec": {
   "display_name": "Python 3 (ipykernel)",
   "language": "python",
   "name": "python3"
  },
  "language_info": {
   "codemirror_mode": {
    "name": "ipython",
    "version": 3
   },
   "file_extension": ".py",
   "mimetype": "text/x-python",
   "name": "python",
   "nbconvert_exporter": "python",
   "pygments_lexer": "ipython3",
   "version": "3.10.16"
  }
 },
 "nbformat": 4,
 "nbformat_minor": 5
}
