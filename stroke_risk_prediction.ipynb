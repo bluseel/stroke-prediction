{
 "cells": [
  {
   "cell_type": "markdown",
   "metadata": {},
   "source": [
    "# Stroke Risk Prediction using Linear Regression\n",
    "This notebook implements a **Linear Regression** model with **Gradient Descent** to predict stroke risk.\n",
    "\n",
    "Since Age is the only feature thats not binary and its messing a lot with linear regression model. So i have made a file in which you can make it binary based on the limit you want to set.\n",
    "For now i have set age > 50\n",
    "\n",
    "We will:\n",
    "- Load and preprocess the dataset\n",
    "- Normalize the features\n",
    "- Implement **Gradient Descent** with **L2 Regularization**\n",
    "- Evaluate the model and check for overfitting\n"
   ]
  },
  {
   "cell_type": "code",
   "execution_count": 63,
   "metadata": {},
   "outputs": [],
   "source": [
    "# Import necessary libraries\n",
    "import numpy as np\n",
    "import pandas as pd\n",
    "import matplotlib.pyplot as plt\n",
    "from sklearn.model_selection import train_test_split\n",
    "from sklearn.metrics import mean_squared_error"
   ]
  },
  {
   "cell_type": "markdown",
   "metadata": {},
   "source": [
    "## 1. Load Dataset\n",
    "We load the stroke risk dataset and extract features and target variables."
   ]
  },
  {
   "cell_type": "code",
   "execution_count": 64,
   "metadata": {},
   "outputs": [
    {
     "name": "stdout",
     "output_type": "stream",
     "text": [
      "       Chest Pain  Shortness of Breath  Irregular Heartbeat  \\\n",
      "0               0                    1                    1   \n",
      "1               0                    0                    1   \n",
      "2               1                    0                    0   \n",
      "3               1                    0                    1   \n",
      "4               0                    0                    1   \n",
      "...           ...                  ...                  ...   \n",
      "69995           1                    0                    0   \n",
      "69996           0                    0                    0   \n",
      "69997           1                    1                    0   \n",
      "69998           0                    1                    1   \n",
      "69999           0                    1                    0   \n",
      "\n",
      "       Fatigue & Weakness  Dizziness  Swelling (Edema)  \\\n",
      "0                       1          0                 0   \n",
      "1                       0          0                 1   \n",
      "2                       1          1                 1   \n",
      "3                       1          0                 1   \n",
      "4                       0          0                 1   \n",
      "...                   ...        ...               ...   \n",
      "69995                   0          0                 0   \n",
      "69996                   1          0                 1   \n",
      "69997                   1          1                 1   \n",
      "69998                   1          1                 0   \n",
      "69999                   0          0                 0   \n",
      "\n",
      "       Pain in Neck/Jaw/Shoulder/Back  Excessive Sweating  Persistent Cough  \\\n",
      "0                                   0                   1                 1   \n",
      "1                                   0                   0                 0   \n",
      "2                                   0                   0                 1   \n",
      "3                                   1                   1                 1   \n",
      "4                                   0                   1                 0   \n",
      "...                               ...                 ...               ...   \n",
      "69995                               0                   1                 0   \n",
      "69996                               0                   1                 0   \n",
      "69997                               0                   0                 0   \n",
      "69998                               0                   0                 0   \n",
      "69999                               0                   1                 1   \n",
      "\n",
      "       Nausea/Vomiting  High Blood Pressure  Chest Discomfort (Activity)  \\\n",
      "0                    1                    0                            1   \n",
      "1                    0                    1                            0   \n",
      "2                    0                    0                            0   \n",
      "3                    1                    1                            0   \n",
      "4                    1                    1                            0   \n",
      "...                ...                  ...                          ...   \n",
      "69995                1                    1                            1   \n",
      "69996                0                    0                            1   \n",
      "69997                0                    1                            0   \n",
      "69998                0                    0                            1   \n",
      "69999                1                    1                            1   \n",
      "\n",
      "       Cold Hands/Feet  Snoring/Sleep Apnea  Anxiety/Feeling of Doom  Age  \\\n",
      "0                    1                    0                        0   54   \n",
      "1                    1                    1                        0   49   \n",
      "2                    0                    1                        0   62   \n",
      "3                    0                    0                        0   48   \n",
      "4                    0                    1                        1   61   \n",
      "...                ...                  ...                      ...  ...   \n",
      "69995                0                    0                        1   18   \n",
      "69996                1                    1                        0   24   \n",
      "69997                0                    0                        0   49   \n",
      "69998                1                    1                        0   45   \n",
      "69999                0                    1                        0   74   \n",
      "\n",
      "       Stroke Risk (%)  At Risk (Binary)  Age greater than 50  \n",
      "0                 58.0                 1                    1  \n",
      "1                 40.5                 0                    0  \n",
      "2                 52.0                 1                    1  \n",
      "3                 60.0                 1                    0  \n",
      "4                 56.5                 1                    1  \n",
      "...                ...               ...                  ...  \n",
      "69995             30.0                 0                    0  \n",
      "69996             33.0                 0                    0  \n",
      "69997             45.5                 0                    0  \n",
      "69998             48.5                 0                    0  \n",
      "69999             63.0                 1                    1  \n",
      "\n",
      "[70000 rows x 19 columns]\n"
     ]
    }
   ],
   "source": [
    "# Load dataset\n",
    "df = pd.read_csv(\"updated_stroke_risk_dataset.csv\")\n",
    "print (df)\n",
    "# Prepare features and target variable\n",
    "X = df.drop(columns=[\"Stroke Risk (%)\", \"At Risk (Binary)\", \"Age\"]).values  # Feature matrix\n",
    "y = df[\"Stroke Risk (%)\"].values.reshape(-1, 1)  # Target variable"
   ]
  },
  {
   "cell_type": "code",
   "execution_count": 65,
   "metadata": {},
   "outputs": [
    {
     "data": {
      "text/plain": [
       "array([[0, 1, 1, ..., 0, 0, 1],\n",
       "       [0, 0, 1, ..., 1, 0, 0],\n",
       "       [1, 0, 0, ..., 1, 0, 1],\n",
       "       ...,\n",
       "       [1, 1, 0, ..., 0, 0, 0],\n",
       "       [0, 1, 1, ..., 1, 0, 0],\n",
       "       [0, 1, 0, ..., 1, 0, 1]], shape=(70000, 16))"
      ]
     },
     "execution_count": 65,
     "metadata": {},
     "output_type": "execute_result"
    }
   ],
   "source": [
    "X"
   ]
  },
  {
   "cell_type": "markdown",
   "metadata": {},
   "source": [
    "## 2. Feature Normalization\n",
    "We normalize the features to have **zero mean** and **unit variance** for better convergence."
   ]
  },
  {
   "cell_type": "code",
   "execution_count": 66,
   "metadata": {},
   "outputs": [],
   "source": [
    "# Feature normalization\n",
    "mu = np.mean(X, axis=0)  # Compute mean\n",
    "sigma = np.std(X, axis=0)  # Compute standard deviation\n",
    "sigma = np.where(sigma == 0, 1, sigma)  # Prevent division by zero\n",
    "lambda_ = 0.05  # Regularization parameter\n",
    "\n",
    "X = (X - mu) / sigma  # Normalize features\n",
    "\n",
    "# Add intercept term (column of ones)\n",
    "X = np.c_[np.ones((X.shape[0], 1)), X]  # Add bias term"
   ]
  },
  {
   "cell_type": "markdown",
   "metadata": {},
   "source": [
    "## 3. Split Dataset\n",
    "We split the data into **training (80%)** and **testing (20%)** sets."
   ]
  },
  {
   "cell_type": "code",
   "execution_count": 67,
   "metadata": {},
   "outputs": [],
   "source": [
    "# Split into training and test sets\n",
    "X_train, X_test, y_train, y_test = train_test_split(X, y, test_size=0.2, random_state=42)"
   ]
  },
  {
   "cell_type": "markdown",
   "metadata": {},
   "source": [
    "## 4. Initialize Model Parameters\n",
    "We initialize **theta (weights)** to zeros and set hyperparameters."
   ]
  },
  {
   "cell_type": "code",
   "execution_count": 68,
   "metadata": {},
   "outputs": [],
   "source": [
    "# Initialize parameters (Theta)\n",
    "theta = np.zeros((X_train.shape[1], 1))  # Initialize theta to zeros\n",
    "\n",
    "# Hyperparameters\n",
    "alpha = 0.01  # Learning rate\n",
    "iterations = 1000  # Number of iterations"
   ]
  },
  {
   "cell_type": "markdown",
   "metadata": {},
   "source": [
    "## 5. Compute Cost Function\n",
    "We define the **Mean Squared Error (MSE)** cost function."
   ]
  },
  {
   "cell_type": "code",
   "execution_count": 69,
   "metadata": {},
   "outputs": [],
   "source": [
    "# Compute Cost Function\n",
    "def compute_cost(X, y, theta):\n",
    "    m = len(y)  # Number of training examples\n",
    "    predictions = X @ theta  # Hypothesis function (h = Xθ)\n",
    "    cost = (1 / (2 * m)) * np.sum((predictions - y) ** 2)  # Compute cost\n",
    "    return cost"
   ]
  },
  {
   "cell_type": "markdown",
   "metadata": {},
   "source": [
    "## 6. Implement Gradient Descent\n",
    "We update **theta** iteratively to minimize the cost function."
   ]
  },
  {
   "cell_type": "code",
   "execution_count": 70,
   "metadata": {},
   "outputs": [],
   "source": [
    "# Gradient Descent Algorithm\n",
    "def gradient_descent(X, y, theta, alpha, iterations, lambda_):\n",
    "    m = len(y)  # Number of training examples\n",
    "    cost_history = []  # Store cost at each iteration\n",
    "\n",
    "    for i in range(iterations):\n",
    "        gradient = (1 / m) * (X.T @ (X @ theta - y)) + (lambda_ / m) * theta  \n",
    "        theta -= alpha * gradient  # Update theta\n",
    "        cost = compute_cost(X, y, theta) + (lambda_ / (2 * m)) * np.sum(theta**2)  # Compute cost\n",
    "        cost_history.append(cost)\n",
    "\n",
    "        if i % 100 == 0:\n",
    "            print(f\"Iteration {i}: Cost {cost:.4f}\")\n",
    "    \n",
    "    return theta, cost_history"
   ]
  },
  {
   "cell_type": "markdown",
   "metadata": {},
   "source": [
    "## 7. Train the Model"
   ]
  },
  {
   "cell_type": "code",
   "execution_count": 71,
   "metadata": {},
   "outputs": [
    {
     "name": "stdout",
     "output_type": "stream",
     "text": [
      "Iteration 0: Cost 1612.8332\n",
      "Iteration 100: Cost 228.9163\n",
      "Iteration 200: Cost 43.2569\n",
      "Iteration 300: Cost 18.3417\n",
      "Iteration 400: Cost 14.9970\n",
      "Iteration 500: Cost 14.5479\n",
      "Iteration 600: Cost 14.4875\n",
      "Iteration 700: Cost 14.4794\n",
      "Iteration 800: Cost 14.4783\n",
      "Iteration 900: Cost 14.4782\n"
     ]
    }
   ],
   "source": [
    "# Run gradient descent\n",
    "theta_final, cost_history = gradient_descent(X_train, y_train, theta, alpha, iterations, lambda_)"
   ]
  },
  {
   "cell_type": "markdown",
   "metadata": {},
   "source": [
    "## 8. Evaluate Model Performance"
   ]
  },
  {
   "cell_type": "code",
   "execution_count": 72,
   "metadata": {},
   "outputs": [
    {
     "name": "stdout",
     "output_type": "stream",
     "text": [
      "Training Error: 5.38%\n",
      "Test Error: 5.37%\n"
     ]
    }
   ],
   "source": [
    "# Predictions for training and test data\n",
    "y_train_pred = X_train @ theta_final\n",
    "y_test_pred = X_test @ theta_final\n",
    "\n",
    "# Compute Mean Squared Error (MSE)\n",
    "train_mse = mean_squared_error(y_train, y_train_pred)\n",
    "test_mse = mean_squared_error(y_test, y_test_pred)\n",
    "\n",
    "# Compute Root Mean Squared Error (RMSE)\n",
    "train_rmse = np.sqrt(train_mse)\n",
    "test_rmse = np.sqrt(test_mse)\n",
    "\n",
    "# Convert RMSE to percentage relative to 100% scale\n",
    "train_error_percentage = (train_rmse / 100) * 100\n",
    "test_error_percentage = (test_rmse / 100) * 100\n",
    "\n",
    "# Print errors as percentages\n",
    "print(f\"Training Error: {train_error_percentage:.2f}%\")\n",
    "print(f\"Test Error: {test_error_percentage:.2f}%\")"
   ]
  },
  {
   "cell_type": "code",
   "execution_count": 73,
   "metadata": {
    "scrolled": true
   },
   "outputs": [
    {
     "name": "stdout",
     "output_type": "stream",
     "text": [
      "\n",
      "Original Value | Predicted Value\n",
      "--------------------------------\n",
      "68.50          | 72.50\n",
      "45.00          | 37.91\n",
      "35.00          | 37.67\n",
      "40.00          | 48.01\n",
      "67.50          | 66.27\n"
     ]
    }
   ],
   "source": [
    "# Display original vs. predicted values for the last 5 test samples\n",
    "print(\"\\nOriginal Value | Predicted Value\")\n",
    "print(\"--------------------------------\")\n",
    "for i in range(0, 5):  # Last 5 values\n",
    "    print(f\"{y_test[i][0]:.2f}          | {y_test_pred[i][0]:.2f}\")\n"
   ]
  },
  {
   "cell_type": "code",
   "execution_count": 74,
   "metadata": {},
   "outputs": [
    {
     "data": {
      "image/png": "[encoded data removed]",
      "text/plain": [
       "<Figure size 1000x500 with 1 Axes>"
      ]
     },
     "metadata": {},
     "output_type": "display_data"
    }
   ],
   "source": [
    "import matplotlib.pyplot as plt\n",
    "import numpy as np\n",
    "\n",
    "# Flatten arrays for easier manipulation\n",
    "y_test_flat = y_test.flatten()\n",
    "y_test_pred_flat = y_test_pred.flatten()\n",
    "\n",
    "# Randomly select 100 indices\n",
    "random_indices = np.random.choice(len(y_test_flat), 100, replace=False)\n",
    "\n",
    "# Get the corresponding values\n",
    "y_test_sample = y_test_flat[random_indices]\n",
    "y_test_pred_sample = y_test_pred_flat[random_indices]\n",
    "\n",
    "# Sort values for better visualization\n",
    "sorted_indices = np.argsort(y_test_sample)\n",
    "y_test_sorted = y_test_sample[sorted_indices]\n",
    "y_test_pred_sorted = y_test_pred_sample[sorted_indices]\n",
    "\n",
    "# Plot the selected samples\n",
    "plt.figure(figsize=(10, 5))\n",
    "plt.plot(y_test_sorted, label=\"Original\", linestyle=\"-\", marker=\"o\", markersize=2, color=\"blue\")\n",
    "plt.plot(y_test_pred_sorted, label=\"Predicted\", linestyle=\"--\", marker=\"s\", markersize=2, color=\"red\")\n",
    "\n",
    "# Labels and legend\n",
    "plt.xlabel(\"Sample Index (Sorted by Original Value)\")\n",
    "plt.ylabel(\"Stroke Risk (%)\")\n",
    "plt.title(\"Original vs. Predicted Stroke Risk (Random 100 Test Samples)\")\n",
    "plt.legend()\n",
    "plt.grid(True)\n",
    "\n",
    "plt.show()\n"
   ]
  },
  {
   "cell_type": "markdown",
   "metadata": {},
   "source": [
    "# Try yourself ;)"
   ]
  },
  {
   "cell_type": "code",
   "execution_count": 75,
   "metadata": {},
   "outputs": [
    {
     "name": "stdout",
     "output_type": "stream",
     "text": [
      "Predicted Stroke Risk: 71.84%\n"
     ]
    }
   ],
   "source": [
    "# Define the symptoms (input features)\n",
    "symptoms = [\n",
    "    \"Chest Pain\",  \"Shortness of Breath\", \"Irregular Heartbeat\", \"Fatigue & Weakness\",\n",
    "    \"Dizziness\", \"Swelling (Edema)\", \"Pain in Neck/Jaw/Shoulder/Back\", \"Excessive Sweating\",\n",
    "    \"Persistent Cough\", \"Nausea/Vomiting\", \"High Blood Pressure\", \"Chest Discomfort (Activity)\",\n",
    "    \"Cold Hands/Feet\", \"Snoring/Sleep Apnea\", \"Anxiety/Feeling of Doom\", \"Age greater than 50\"\n",
    "]\n",
    "\n",
    "\n",
    "\n",
    "# Example input (1 = symptom present, 0 = symptom absent)\n",
    "user_input = [0, 0, 1, 0, \n",
    "              1, 0, 1, 0, \n",
    "              1, 0, 1, 0, \n",
    "              1, 0, 1, 1]  # Example values\n",
    "\n",
    "# Convert to NumPy array\n",
    "new_input = np.array([user_input])\n",
    "\n",
    "# Normalize input using training data statistics\n",
    "mu = np.array([0.5] * len(symptoms))  # Placeholder mean values (Replace with actual means)\n",
    "sigma = np.array([0.2] * len(symptoms))  # Placeholder std values (Replace with actual std)\n",
    "\n",
    "# Prevent division by zero\n",
    "sigma = np.where(sigma == 0, 1, sigma)\n",
    "\n",
    "# Apply normalization\n",
    "new_input = (new_input - mu) / sigma\n",
    "\n",
    "# Add bias term (intercept)\n",
    "new_input = np.c_[np.ones((new_input.shape[0], 1)), new_input]  # Add column of 1s for bias\n",
    "\n",
    "# Compute prediction using trained theta values\n",
    "y_pred = new_input @ theta_final  # Dot product with trained theta values\n",
    "\n",
    "# Display result\n",
    "print(f\"Predicted Stroke Risk: {y_pred[0][0]:.2f}%\")"
   ]
  }
 ],
 "metadata": {
  "kernelspec": {
   "display_name": "Python 3 (ipykernel)",
   "language": "python",
   "name": "python3"
  },
  "language_info": {
   "codemirror_mode": {
    "name": "ipython",
    "version": 3
   },
   "file_extension": ".py",
   "mimetype": "text/x-python",
   "name": "python",
   "nbconvert_exporter": "python",
   "pygments_lexer": "ipython3",
   "version": "3.10.16"
  }
 },
 "nbformat": 4,
 "nbformat_minor": 4
}
